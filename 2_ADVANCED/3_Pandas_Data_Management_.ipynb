{
 "cells": [
  {
   "cell_type": "code",
   "execution_count": 1,
   "metadata": {},
   "outputs": [],
   "source": [
    "# Importing Libraries\n",
    "import pandas as pd\n",
    "from datasets import load_dataset\n",
    "import matplotlib.pyplot as plt\n",
    "\n",
    "# Loading Data\n",
    "dataset = load_dataset('lukebarousse/data_jobs')\n",
    "df = dataset['train'].to_pandas()\n",
    "\n",
    "# Data Cleanup\n",
    "df['job_posted_date'] = pd.to_datetime(df['job_posted_date'])"
   ]
  },
  {
   "cell_type": "code",
   "execution_count": 35,
   "metadata": {},
   "outputs": [
    {
     "data": {
      "text/html": [
       "<div>\n",
       "<style scoped>\n",
       "    .dataframe tbody tr th:only-of-type {\n",
       "        vertical-align: middle;\n",
       "    }\n",
       "\n",
       "    .dataframe tbody tr th {\n",
       "        vertical-align: top;\n",
       "    }\n",
       "\n",
       "    .dataframe thead th {\n",
       "        text-align: right;\n",
       "    }\n",
       "</style>\n",
       "<table border=\"1\" class=\"dataframe\">\n",
       "  <thead>\n",
       "    <tr style=\"text-align: right;\">\n",
       "      <th></th>\n",
       "      <th>job_title_short</th>\n",
       "      <th>job_title</th>\n",
       "      <th>job_location</th>\n",
       "      <th>job_via</th>\n",
       "      <th>job_schedule_type</th>\n",
       "      <th>job_work_from_home</th>\n",
       "      <th>search_location</th>\n",
       "      <th>job_posted_date</th>\n",
       "      <th>job_no_degree_mention</th>\n",
       "      <th>job_health_insurance</th>\n",
       "      <th>job_country</th>\n",
       "      <th>salary_rate</th>\n",
       "      <th>salary_year_avg</th>\n",
       "      <th>salary_hour_avg</th>\n",
       "      <th>company_name</th>\n",
       "      <th>job_skills</th>\n",
       "      <th>job_type_skills</th>\n",
       "    </tr>\n",
       "  </thead>\n",
       "  <tbody>\n",
       "    <tr>\n",
       "      <th>463509</th>\n",
       "      <td>Senior Data Engineer</td>\n",
       "      <td>Senior Data Engineer</td>\n",
       "      <td>Hartford, CT</td>\n",
       "      <td>via LinkedIn</td>\n",
       "      <td>Full-time</td>\n",
       "      <td>False</td>\n",
       "      <td>Illinois, United States</td>\n",
       "      <td>2023-02-17 14:12:32</td>\n",
       "      <td>False</td>\n",
       "      <td>False</td>\n",
       "      <td>United States</td>\n",
       "      <td>year</td>\n",
       "      <td>160000.0</td>\n",
       "      <td>NaN</td>\n",
       "      <td>Alldus</td>\n",
       "      <td>['python', 'sql', 'snowflake']</td>\n",
       "      <td>{'cloud': ['snowflake'], 'programming': ['pyth...</td>\n",
       "    </tr>\n",
       "    <tr>\n",
       "      <th>675218</th>\n",
       "      <td>Business Analyst</td>\n",
       "      <td>Tableau Developer / Business Analyst</td>\n",
       "      <td>Kraków, Poland</td>\n",
       "      <td>via SmartRecruiters Job Search</td>\n",
       "      <td>Full-time</td>\n",
       "      <td>False</td>\n",
       "      <td>Poland</td>\n",
       "      <td>2023-06-28 11:08:17</td>\n",
       "      <td>False</td>\n",
       "      <td>False</td>\n",
       "      <td>Poland</td>\n",
       "      <td>None</td>\n",
       "      <td>NaN</td>\n",
       "      <td>NaN</td>\n",
       "      <td>zooplus SE</td>\n",
       "      <td>['sql', 'aws', 'oracle', 'tableau', 'sap']</td>\n",
       "      <td>{'analyst_tools': ['tableau', 'sap'], 'cloud':...</td>\n",
       "    </tr>\n",
       "    <tr>\n",
       "      <th>774597</th>\n",
       "      <td>Data Analyst</td>\n",
       "      <td>ELECT - Data Analyst 2</td>\n",
       "      <td>Tennessee, IL</td>\n",
       "      <td>via BeBee</td>\n",
       "      <td>Full-time</td>\n",
       "      <td>False</td>\n",
       "      <td>Illinois, United States</td>\n",
       "      <td>2023-09-29 01:01:43</td>\n",
       "      <td>True</td>\n",
       "      <td>True</td>\n",
       "      <td>United States</td>\n",
       "      <td>None</td>\n",
       "      <td>NaN</td>\n",
       "      <td>NaN</td>\n",
       "      <td>Yakshna Solutions, Inc.</td>\n",
       "      <td>['sql', 't-sql', 'sql server', 'elasticsearch'...</td>\n",
       "      <td>{'analyst_tools': ['ssis', 'tableau', 'ssrs'],...</td>\n",
       "    </tr>\n",
       "    <tr>\n",
       "      <th>522891</th>\n",
       "      <td>Data Analyst</td>\n",
       "      <td>Data Analyst</td>\n",
       "      <td>Chicago, IL</td>\n",
       "      <td>via Jobs Trabajo.org</td>\n",
       "      <td>Full-time</td>\n",
       "      <td>False</td>\n",
       "      <td>Illinois, United States</td>\n",
       "      <td>2023-08-25 11:02:29</td>\n",
       "      <td>False</td>\n",
       "      <td>False</td>\n",
       "      <td>United States</td>\n",
       "      <td>None</td>\n",
       "      <td>NaN</td>\n",
       "      <td>NaN</td>\n",
       "      <td>Chicago Public Schools - CPS</td>\n",
       "      <td>['sas', 'sas', 'r', 'spss']</td>\n",
       "      <td>{'analyst_tools': ['sas', 'spss'], 'programmin...</td>\n",
       "    </tr>\n",
       "  </tbody>\n",
       "</table>\n",
       "</div>"
      ],
      "text/plain": [
       "             job_title_short                             job_title  \\\n",
       "463509  Senior Data Engineer                  Senior Data Engineer   \n",
       "675218      Business Analyst  Tableau Developer / Business Analyst   \n",
       "774597          Data Analyst                ELECT - Data Analyst 2   \n",
       "522891          Data Analyst                          Data Analyst   \n",
       "\n",
       "          job_location                         job_via job_schedule_type  \\\n",
       "463509    Hartford, CT                    via LinkedIn         Full-time   \n",
       "675218  Kraków, Poland  via SmartRecruiters Job Search         Full-time   \n",
       "774597   Tennessee, IL                       via BeBee         Full-time   \n",
       "522891     Chicago, IL            via Jobs Trabajo.org         Full-time   \n",
       "\n",
       "        job_work_from_home          search_location     job_posted_date  \\\n",
       "463509               False  Illinois, United States 2023-02-17 14:12:32   \n",
       "675218               False                   Poland 2023-06-28 11:08:17   \n",
       "774597               False  Illinois, United States 2023-09-29 01:01:43   \n",
       "522891               False  Illinois, United States 2023-08-25 11:02:29   \n",
       "\n",
       "        job_no_degree_mention  job_health_insurance    job_country  \\\n",
       "463509                  False                 False  United States   \n",
       "675218                  False                 False         Poland   \n",
       "774597                   True                  True  United States   \n",
       "522891                  False                 False  United States   \n",
       "\n",
       "       salary_rate  salary_year_avg  salary_hour_avg  \\\n",
       "463509        year         160000.0              NaN   \n",
       "675218        None              NaN              NaN   \n",
       "774597        None              NaN              NaN   \n",
       "522891        None              NaN              NaN   \n",
       "\n",
       "                        company_name  \\\n",
       "463509                        Alldus   \n",
       "675218                    zooplus SE   \n",
       "774597       Yakshna Solutions, Inc.   \n",
       "522891  Chicago Public Schools - CPS   \n",
       "\n",
       "                                               job_skills  \\\n",
       "463509                     ['python', 'sql', 'snowflake']   \n",
       "675218         ['sql', 'aws', 'oracle', 'tableau', 'sap']   \n",
       "774597  ['sql', 't-sql', 'sql server', 'elasticsearch'...   \n",
       "522891                        ['sas', 'sas', 'r', 'spss']   \n",
       "\n",
       "                                          job_type_skills  \n",
       "463509  {'cloud': ['snowflake'], 'programming': ['pyth...  \n",
       "675218  {'analyst_tools': ['tableau', 'sap'], 'cloud':...  \n",
       "774597  {'analyst_tools': ['ssis', 'tableau', 'ssrs'],...  \n",
       "522891  {'analyst_tools': ['sas', 'spss'], 'programmin...  "
      ]
     },
     "execution_count": 35,
     "metadata": {},
     "output_type": "execute_result"
    }
   ],
   "source": [
    "df.sample(4, random_state=5)"
   ]
  },
  {
   "cell_type": "code",
   "execution_count": 38,
   "metadata": {},
   "outputs": [
    {
     "data": {
      "text/plain": [
       "0   NaN\n",
       "1   NaN\n",
       "2   NaN\n",
       "3   NaN\n",
       "4   NaN\n",
       "5   NaN\n",
       "Name: salary_year_avg, dtype: float64"
      ]
     },
     "execution_count": 38,
     "metadata": {},
     "output_type": "execute_result"
    }
   ],
   "source": [
    "df_altered = df.copy()\n",
    "df_altered.loc[:5, 'salary_year_avg']"
   ]
  },
  {
   "cell_type": "code",
   "execution_count": 39,
   "metadata": {},
   "outputs": [
    {
     "data": {
      "text/plain": [
       "115000.0"
      ]
     },
     "execution_count": 39,
     "metadata": {},
     "output_type": "execute_result"
    }
   ],
   "source": [
    "median_salary = df_altered['salary_year_avg'].median()\n",
    "median_salary\n"
   ]
  },
  {
   "cell_type": "code",
   "execution_count": 40,
   "metadata": {},
   "outputs": [
    {
     "data": {
      "text/plain": [
       "0    115000.0\n",
       "1    115000.0\n",
       "2    115000.0\n",
       "3    115000.0\n",
       "4    115000.0\n",
       "5    115000.0\n",
       "Name: salary_year_avg, dtype: float64"
      ]
     },
     "execution_count": 40,
     "metadata": {},
     "output_type": "execute_result"
    }
   ],
   "source": [
    "df_altered['salary_year_avg'] = df_altered['salary_year_avg'].fillna(median_salary)\n",
    "df_altered.loc[:5, 'salary_year_avg']"
   ]
  },
  {
   "cell_type": "code",
   "execution_count": 41,
   "metadata": {},
   "outputs": [
    {
     "data": {
      "text/plain": [
       "0   NaN\n",
       "1   NaN\n",
       "2   NaN\n",
       "3   NaN\n",
       "4   NaN\n",
       "5   NaN\n",
       "Name: salary_year_avg, dtype: float64"
      ]
     },
     "execution_count": 41,
     "metadata": {},
     "output_type": "execute_result"
    }
   ],
   "source": [
    "df.loc[:5, 'salary_year_avg']"
   ]
  },
  {
   "cell_type": "code",
   "execution_count": 42,
   "metadata": {},
   "outputs": [
    {
     "data": {
      "text/plain": [
       "2993431411920"
      ]
     },
     "execution_count": 42,
     "metadata": {},
     "output_type": "execute_result"
    }
   ],
   "source": [
    "id(df)"
   ]
  },
  {
   "cell_type": "code",
   "execution_count": 43,
   "metadata": {},
   "outputs": [
    {
     "data": {
      "text/plain": [
       "2993482323408"
      ]
     },
     "execution_count": 43,
     "metadata": {},
     "output_type": "execute_result"
    }
   ],
   "source": [
    "id(df_altered)"
   ]
  },
  {
   "cell_type": "code",
   "execution_count": 44,
   "metadata": {},
   "outputs": [
    {
     "data": {
      "text/plain": [
       "False"
      ]
     },
     "execution_count": 44,
     "metadata": {},
     "output_type": "execute_result"
    }
   ],
   "source": [
    "id(df) == id(df_altered)"
   ]
  },
  {
   "cell_type": "code",
   "execution_count": null,
   "metadata": {},
   "outputs": [],
   "source": []
  }
 ],
 "metadata": {
  "kernelspec": {
   "display_name": "python_course",
   "language": "python",
   "name": "python3"
  },
  "language_info": {
   "codemirror_mode": {
    "name": "ipython",
    "version": 3
   },
   "file_extension": ".py",
   "mimetype": "text/x-python",
   "name": "python",
   "nbconvert_exporter": "python",
   "pygments_lexer": "ipython3",
   "version": "3.11.11"
  }
 },
 "nbformat": 4,
 "nbformat_minor": 2
}

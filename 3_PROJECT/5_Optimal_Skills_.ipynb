{
 "cells": [
  {
   "cell_type": "markdown",
   "id": "1576d4bb",
   "metadata": {},
   "source": [
    "## What is the most optimal skill to learn for Data Analysts in Spain in 2023?"
   ]
  },
  {
   "cell_type": "markdown",
   "id": "135939b2",
   "metadata": {},
   "source": [
    "### Methodology\n",
    "\n",
    "  1. Group skills to determine median salary and likelihood of being in posting\n",
    "  2. Visualize median salary vs percent skill demand\n",
    "  3. (Optional) Determine if certain technologies are more prevalent"
   ]
  }
 ],
 "metadata": {
  "language_info": {
   "name": "python"
  }
 },
 "nbformat": 4,
 "nbformat_minor": 5
}
